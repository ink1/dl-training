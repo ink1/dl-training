{
 "cells": [
  {
   "cell_type": "markdown",
   "metadata": {},
   "source": [
    "# Exercise 1: Linear Regression"
   ]
  },
  {
   "cell_type": "markdown",
   "metadata": {},
   "source": [
    "The *bodyfat* data set contains several body measurements that can be done using a scale and a tape measure. These can be used to predict the body fat percentage (`body.fat` column). Measuring body fat requires a special apparatus; if our resulting model fits well, we have a low-cost alternative. The measurements are age, weight, height, BMI, neck, chest, abdomen, hip, thigh, knee, ankle, bicep, forearm, and wrist."
   ]
  },
  {
   "cell_type": "code",
   "execution_count": null,
   "metadata": {
    "collapsed": true
   },
   "outputs": [],
   "source": [
    "from pathlib import Path\n",
    "import pandas as pd\n",
    "import numpy as np\n",
    "import matplotlib.pyplot as plt\n",
    "%matplotlib inline"
   ]
  },
  {
   "cell_type": "code",
   "execution_count": null,
   "metadata": {},
   "outputs": [],
   "source": [
    "bodyfat = pd.read_csv(Path('../datasets/bodyfat.csv'))\n",
    "\n",
    "bodyfat['body.fat'].hist()\n",
    "bodyfat.head()"
   ]
  },
  {
   "cell_type": "markdown",
   "metadata": {},
   "source": [
    "## Tasks\n",
    "\n",
    "The objective in ordinary least squares regression is to minimise the squared error:\n",
    "$$\n",
    "\\arg⁡\\min_{\\beta_0, \\beta} \\quad \\frac{1}{2} \\sum_{i=1}^n (y_i - \\beta_0 - \\mathbf{x}_i^\\top \\beta)^2\n",
    "$$\n",
    "\n",
    "1. Create a function that takes a data matrix $\\mathbf{X} \\in \\mathbb{R}^{n \\times m}$ of measurements and a vector $\\mathbb{y} \\in \\mathbb{R}^n$ of body fat content. The function should return the **ordinary least squares (OLS)** estimate of the coefficients $\\beta$ (including the intercept).\n",
    "\n",
    "2. Create multiple models that predict the amount of body fat based on one of the 14 features mentioned above, respectively. For each model create a scatter plot which depicts the data and the model.\n",
    "\n",
    "3. Create a single model that contains all of the 14 features mentioned above. Which features have the highest/lowest coefficients? You can use [np.linalg.solve](https://docs.scipy.org/doc/numpy/reference/generated/numpy.linalg.solve.html#numpy.linalg.solve) to solve a system of linear equations of the form $Ax=b$.\n",
    "\n",
    "**Note**: For numerical stability, it is recommended to standardise the features in $\\mathbf{X}$ such that\n",
    "$$\n",
    "\\sum_{i=1}^n x_{i,j} = 0 \\quad \\forall j \\in \\{1,\\ldots,m\\} \\\\\n",
    "\\frac{1}{n} \\sum_{i=1}^n x_{i,j}^2 = 1 \\quad \\forall j \\in \\{1,\\ldots,m\\} \\\\\n",
    "$$\n",
    "To standardise the $j$-th feature, substract the mean and divide by the standard deviation of the $j$-th column of $\\mathbf{X}$. The same standardisation used during training must be applied for prediction."
   ]
  },
  {
   "cell_type": "code",
   "execution_count": null,
   "metadata": {
    "collapsed": true
   },
   "outputs": [],
   "source": []
  }
 ],
 "metadata": {
  "kernelspec": {
   "display_name": "Python 3",
   "language": "python",
   "name": "python3"
  },
  "language_info": {
   "codemirror_mode": {
    "name": "ipython",
    "version": 3
   },
   "file_extension": ".py",
   "mimetype": "text/x-python",
   "name": "python",
   "nbconvert_exporter": "python",
   "pygments_lexer": "ipython3",
   "version": "3.6.4"
  }
 },
 "nbformat": 4,
 "nbformat_minor": 2
}
