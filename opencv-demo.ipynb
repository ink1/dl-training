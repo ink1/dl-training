{
 "cells": [
  {
   "cell_type": "code",
   "execution_count": null,
   "metadata": {},
   "outputs": [],
   "source": [
    "import cv2\n",
    "#from IPython.display import display\n",
    "import numpy as np\n",
    "# import ipywidgets\n",
    "from ipywidgets import interact, interactive, fixed\n",
    "from skimage import filters, io\n",
    "from matplotlib import pyplot as plt"
   ]
  },
  {
   "cell_type": "code",
   "execution_count": null,
   "metadata": {},
   "outputs": [],
   "source": [
    "plt.rc('figure', figsize=(10, 6))\n",
    "np.set_printoptions(precision=4, suppress=True)"
   ]
  },
  {
   "cell_type": "code",
   "execution_count": null,
   "metadata": {},
   "outputs": [],
   "source": [
    "cv2.__version__"
   ]
  },
  {
   "cell_type": "code",
   "execution_count": null,
   "metadata": {},
   "outputs": [],
   "source": [
    "img = cv2.imread('house.png')"
   ]
  },
  {
   "cell_type": "code",
   "execution_count": null,
   "metadata": {},
   "outputs": [],
   "source": [
    "type(img)"
   ]
  },
  {
   "cell_type": "code",
   "execution_count": null,
   "metadata": {},
   "outputs": [],
   "source": [
    "# opencv returns BGR; convert to RGB for display using matplotlib\n",
    "img2 = img[:,:,::-1]\n",
    "#io.imshow(img2)\n",
    "plt.imshow(img2)"
   ]
  },
  {
   "cell_type": "code",
   "execution_count": null,
   "metadata": {},
   "outputs": [],
   "source": [
    "img_grey = cv2.cvtColor(img, cv2.COLOR_BGR2GRAY)\n",
    "#display(io.Image(img_grey))\n",
    "#io.imshow(img_grey)\n",
    "plt.imshow(img_grey, cmap='gray')"
   ]
  },
  {
   "cell_type": "code",
   "execution_count": null,
   "metadata": {},
   "outputs": [],
   "source": [
    "# the object containing a grey image (after convertion) is an integer array\n",
    "# see more about conversion at\n",
    "# http://docs.opencv.org/modules/imgproc/doc/miscellaneous_transformations.html\n",
    "\n",
    "img_grey[1][1], type(img_grey)"
   ]
  },
  {
   "cell_type": "code",
   "execution_count": null,
   "metadata": {},
   "outputs": [],
   "source": [
    "img_grey.size, img_grey.itemsize, img_grey.shape, img_grey.dtype"
   ]
  },
  {
   "cell_type": "code",
   "execution_count": null,
   "metadata": {},
   "outputs": [],
   "source": [
    "# convert image to floats either using dtype\n",
    "#newimg = np.ndarray(shape=img_grey.shape, dtype=float)\n",
    "# or by dividing the original array by max value\n",
    "\n",
    "newimg = img_grey/255."
   ]
  },
  {
   "cell_type": "code",
   "execution_count": null,
   "metadata": {},
   "outputs": [],
   "source": [
    "newimg[1][1], type(img_grey)"
   ]
  },
  {
   "cell_type": "code",
   "execution_count": null,
   "metadata": {},
   "outputs": [],
   "source": [
    "newimg.size, newimg.itemsize, newimg.shape, newimg.dtype"
   ]
  },
  {
   "cell_type": "code",
   "execution_count": null,
   "metadata": {},
   "outputs": [],
   "source": [
    "# convert to float and show a segment only\n",
    "#img_grey *= 1./255.\n",
    "#display(io.Image(newimg))\n",
    "plt.imshow(newimg[:200,:200], cmap='gray')"
   ]
  },
  {
   "cell_type": "markdown",
   "metadata": {},
   "source": [
    "### DoG"
   ]
  },
  {
   "cell_type": "code",
   "execution_count": null,
   "metadata": {},
   "outputs": [],
   "source": [
    "## DoG filter.\n",
    "#  @param  img      input gray image.\n",
    "#  @param  sigma    sigma for small Gaussian filter.\n",
    "#  @param  k_sigma  large/small sigma (Gaussian filter).\n",
    "def DoG(img, s, k):\n",
    "    sL = s * k\n",
    "    G_small = cv2.GaussianBlur(img,(5, 5), sigmaX=s,  sigmaY=s)\n",
    "    G_large = cv2.GaussianBlur(img,(5, 5), sigmaX=sL, sigmaY=sL)\n",
    "    D = G_small - G_large\n",
    "    return D"
   ]
  },
  {
   "cell_type": "code",
   "execution_count": null,
   "metadata": {},
   "outputs": [],
   "source": [
    "## DoG edge detection.\n",
    "#  @param  img      input gray image.\n",
    "#  @param  sigma    sigma for small Gaussian filter.\n",
    "#  @param  k_sigma  large/small sigma (Gaussian filter).\n",
    "#  @param  epsilon  threshold value for edge detection.\n",
    "def DoGEdge(img, s, k, eps):\n",
    "    D = DoG(img, s, k)\n",
    "    retval, D_edge = cv2.threshold(D, eps, 1.0, cv2.THRESH_BINARY)\n",
    "    return D_edge"
   ]
  },
  {
   "cell_type": "code",
   "execution_count": null,
   "metadata": {},
   "outputs": [],
   "source": [
    "img_dog =DoG(newimg, 1.0, 2.0)"
   ]
  },
  {
   "cell_type": "code",
   "execution_count": null,
   "metadata": {},
   "outputs": [],
   "source": [
    "A = cv2.GaussianBlur(newimg,(5, 5), sigmaX=1.0,  sigmaY=1.0)\n",
    "B = cv2.GaussianBlur(newimg,(5, 5), sigmaX=2.0,  sigmaY=2.0)\n",
    "C = A - B\n",
    "A[1][1], B[1][1], C[1][1]"
   ]
  },
  {
   "cell_type": "code",
   "execution_count": null,
   "metadata": {},
   "outputs": [],
   "source": [
    "def showImg(s=1.0, k=2.0):\n",
    "    #new_image = io.Image(DoG(img_grey, s, k))\n",
    "    new_image = plt.imshow(DoG(img_grey, s, k), cmap='gray')\n",
    "    return new_image"
   ]
  },
  {
   "cell_type": "code",
   "execution_count": null,
   "metadata": {},
   "outputs": [],
   "source": [
    "w = interactive(showImg, \n",
    "         s=(0.1, 10.0, 0.1), \n",
    "         k=(0.1, 10.0, 0.1))\n",
    "display(w)"
   ]
  },
  {
   "cell_type": "markdown",
   "metadata": {
    "collapsed": true
   },
   "source": [
    "### XDoG"
   ]
  },
  {
   "cell_type": "code",
   "execution_count": null,
   "metadata": {},
   "outputs": [],
   "source": [
    "## Sharp image from scaled DoG signal.\n",
    "#  @param  img        input gray image.\n",
    "#  @param  sigma      sigma for small Gaussian filter.\n",
    "#  @param  k_sigma    large/small sigma (Gaussian filter).\n",
    "#  @param  p          scale parameter for DoG signal to make sharp.\n",
    "def sharpImage(img, s, k, p):\n",
    "    sL = s * k\n",
    "    G_small = cv2.GaussianBlur(img,(5, 5), sigmaX=s,  sigmaY=s)\n",
    "    G_large = cv2.GaussianBlur(img,(5, 5), sigmaX=sL, sigmaY=sL)\n",
    "    S = (1+p) * G_small - p * G_large\n",
    "    return S"
   ]
  },
  {
   "cell_type": "code",
   "execution_count": null,
   "metadata": {},
   "outputs": [],
   "source": [
    "## Soft threshold function to make ink rendering style.\n",
    "#  @param  img        input gray image.\n",
    "#  @param  epsilon    threshold value between dark and bright.\n",
    "#  @param  phi        soft thresholding parameter.\n",
    "def softThreshold(SI, eps, phi):\n",
    "    T = np.zeros(SI.shape)\n",
    "    SI_bright = SI >= eps\n",
    "    SI_dark = SI < eps\n",
    "    T[SI_bright] = 1.0\n",
    "    T[SI_dark] = 1.0 + np.tanh( phi * (SI[SI_dark] - eps))\n",
    "    #T[SI_bright] = 255\n",
    "    #T[SI_dark] = min(max(round( 255*(1.0 + np.tanh( phi * (SI[SI_dark] - eps)) ))))\n",
    "    return T"
   ]
  },
  {
   "cell_type": "code",
   "execution_count": null,
   "metadata": {},
   "outputs": [],
   "source": [
    "## XDoG filter.\n",
    "#  @param  img        input gray image.\n",
    "#  @param  sigma      sigma for sharpImage.\n",
    "#  @param  k_sigma    large/small sigma for sharpImage.\n",
    "#  @param  p          scale parameter for sharpImage.\n",
    "#  @param  epsilon    threshold value for softThreshold.\n",
    "#  @param  phi        soft thresholding parameter for softThreshold.\n",
    "def XDoG(img, s, k, p, eps, phi):\n",
    "    S = sharpImage(img, s, k, p)\n",
    "    SI = np.multiply(img, S)\n",
    "    T = softThreshold(SI, eps, phi)\n",
    "    return T"
   ]
  },
  {
   "cell_type": "code",
   "execution_count": null,
   "metadata": {},
   "outputs": [],
   "source": [
    "img_xdog =XDoG(img_grey, 1.2, 2.0, 15.0, 0.5, 2.0)"
   ]
  },
  {
   "cell_type": "code",
   "execution_count": null,
   "metadata": {},
   "outputs": [],
   "source": [
    "#display(io.Image(img_xdog))\n",
    "plt.imshow(img_xdog, cmap='gray')"
   ]
  },
  {
   "cell_type": "code",
   "execution_count": null,
   "metadata": {},
   "outputs": [],
   "source": [
    "def showImgXDoG(s=1.2, k=2.0, p=15.0, eps=0.5, phi=2.0):\n",
    "    #new_image = io.Image(XDoG(img_grey, s, k, p, eps, phi))\n",
    "    new_image = plt.imshow(XDoG(img_grey, s, k, p, eps, phi), cmap='gray')\n",
    "    return new_image"
   ]
  },
  {
   "cell_type": "code",
   "execution_count": null,
   "metadata": {},
   "outputs": [],
   "source": [
    "interactive(showImgXDoG, \n",
    "         s=(0.1, 10.0, 0.1), \n",
    "         k=(0.1, 10.0, 0.1),\n",
    "         p=(0.1, 100.0, 0.1),\n",
    "         eps=(-10.0, 10.0, 0.1),\n",
    "         phi=(0.1, 100.0, 0.1) )"
   ]
  },
  {
   "cell_type": "code",
   "execution_count": null,
   "metadata": {},
   "outputs": [],
   "source": []
  }
 ],
 "metadata": {
  "kernelspec": {
   "display_name": "Python 3",
   "language": "python",
   "name": "python3"
  },
  "language_info": {
   "codemirror_mode": {
    "name": "ipython",
    "version": 3
   },
   "file_extension": ".py",
   "mimetype": "text/x-python",
   "name": "python",
   "nbconvert_exporter": "python",
   "pygments_lexer": "ipython3",
   "version": "3.6.4"
  }
 },
 "nbformat": 4,
 "nbformat_minor": 1
}
