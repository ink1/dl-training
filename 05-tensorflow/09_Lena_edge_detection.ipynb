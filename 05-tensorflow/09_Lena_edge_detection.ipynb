{
 "cells": [
  {
   "cell_type": "code",
   "execution_count": null,
   "metadata": {},
   "outputs": [],
   "source": [
    "import tensorflow as tf\n",
    "import scipy.io as sio\n",
    "import matplotlib.pyplot as plt\n",
    "import numpy as np\n",
    "import matplotlib.image as mpimg"
   ]
  },
  {
   "cell_type": "code",
   "execution_count": null,
   "metadata": {},
   "outputs": [],
   "source": [
    "# Parameters\n",
    "learning_rate = 0.01\n",
    "training_epochs = 1000\n",
    "display_step = 100"
   ]
  },
  {
   "cell_type": "code",
   "execution_count": null,
   "metadata": {},
   "outputs": [],
   "source": [
    "mat_workspace = sio.loadmat('images/lena.mat')"
   ]
  },
  {
   "cell_type": "code",
   "execution_count": null,
   "metadata": {},
   "outputs": [],
   "source": [
    "lena_im = np.array(mat_workspace['im'])\n",
    "plt.imshow(lena_im)\n",
    "plt.show()"
   ]
  },
  {
   "cell_type": "code",
   "execution_count": null,
   "metadata": {},
   "outputs": [],
   "source": [
    "lena_img = np.array(mat_workspace['img']) # Grayscale\n",
    "plt.imshow(lena_img, cmap='gray')\n",
    "plt.show()"
   ]
  },
  {
   "cell_type": "code",
   "execution_count": null,
   "metadata": {},
   "outputs": [],
   "source": [
    "lena_imgrad = np.array(mat_workspace['imgrad']) # Vertical Edges\n",
    "plt.imshow(lena_imgrad, cmap='gray')\n",
    "plt.show()"
   ]
  },
  {
   "cell_type": "code",
   "execution_count": null,
   "metadata": {},
   "outputs": [],
   "source": [
    "mat_workspace = sio.loadmat('images/cameraman.mat')\n",
    "cam_im = np.array(mat_workspace['im'])\n",
    "plt.imshow(cam_im, cmap='gray')\n",
    "plt.show()"
   ]
  },
  {
   "cell_type": "code",
   "execution_count": null,
   "metadata": {},
   "outputs": [],
   "source": [
    "# Rearrange input/output data \n",
    "train_In = np.expand_dims(lena_img, axis=0)\n",
    "train_In = np.expand_dims(train_In, axis=3)\n",
    "train_Out = np.expand_dims(lena_imgrad, axis=0)\n",
    "train_Out = np.expand_dims(train_Out, axis=3)\n",
    "cam_In = np.expand_dims(cam_im, axis=0)\n",
    "cam_In = np.expand_dims(cam_In, axis=3)"
   ]
  },
  {
   "cell_type": "code",
   "execution_count": null,
   "metadata": {},
   "outputs": [],
   "source": [
    "# tf input via placeholder\n",
    "In = tf.placeholder(\"float32\", shape=[1, 512, 512, 1])\n",
    "Out = tf.placeholder(\"float32\", shape=[1, 512, 512, 1])"
   ]
  },
  {
   "cell_type": "code",
   "execution_count": null,
   "metadata": {},
   "outputs": [],
   "source": [
    "Gx = tf.get_variable(\"Gx\", initializer=tf.truncated_normal(shape=[3, 3, 1, 1]))\n",
    "Gy = tf.get_variable(\"Gy\", initializer=tf.truncated_normal(shape=[3, 3, 1, 1]))\n",
    "Outx = tf.nn.conv2d(In, Gx, strides=[1, 1, 1, 1], padding='SAME', name=\"Outx\")\n",
    "Outy = tf.nn.conv2d(In, Gy, strides=[1, 1, 1, 1], padding='SAME', name=\"Outy\")"
   ]
  },
  {
   "cell_type": "code",
   "execution_count": null,
   "metadata": {},
   "outputs": [],
   "source": [
    "# Pred = G = sqrt(Edgex^2 + Edgey^2)\n",
    "Pred = tf.sqrt(tf.add(tf.square(Outx), tf.square(Outy)))"
   ]
  },
  {
   "cell_type": "code",
   "execution_count": null,
   "metadata": {},
   "outputs": [],
   "source": [
    "# Cost function - Absolute Difference\n",
    "cost = tf.losses.absolute_difference(labels=Out, predictions=Pred)"
   ]
  },
  {
   "cell_type": "code",
   "execution_count": null,
   "metadata": {},
   "outputs": [],
   "source": [
    "# Optimizer Adam\n",
    "optimizer = tf.train.AdamOptimizer(learning_rate).minimize(cost)"
   ]
  },
  {
   "cell_type": "code",
   "execution_count": null,
   "metadata": {},
   "outputs": [],
   "source": [
    "# Initialize the variables\n",
    "init = tf.global_variables_initializer()"
   ]
  },
  {
   "cell_type": "code",
   "execution_count": null,
   "metadata": {},
   "outputs": [],
   "source": [
    "with tf.Session() as sess:\n",
    "    sess.run(init)\n",
    "    # Fit all training data\n",
    "    for epoch in range(training_epochs):\n",
    "        c, out, _ = sess.run([cost, Pred, optimizer],\n",
    "                             feed_dict={In: train_In, Out: train_Out})\n",
    "\n",
    "        # Display logs per epoch step\n",
    "        if epoch % display_step == 0:\n",
    "            print(\"Epoch:\", '%04d' % (epoch), \"cost=\", \"{:.9f}\".format(c))\n",
    "            print('Lena')\n",
    "            plt.imshow(np.squeeze(out), cmap='gray')\n",
    "            plt.show()\n",
    "            print('Cameraman')\n",
    "            out = sess.run(Pred, feed_dict={In:cam_In})\n",
    "            plt.imshow(np.squeeze(out), cmap='gray')\n",
    "            plt.show()\n",
    "    out = sess.run(Pred, feed_dict={In:cam_In})\n",
    "    out = np.squeeze(out)\n",
    "    mpimg.imsave(\"out.png\", out, cmap='gray')\n",
    "    mpimg.imsave(\"cameraman.png\", cam_im, cmap='gray')\n"
   ]
  },
  {
   "cell_type": "code",
   "execution_count": null,
   "metadata": {},
   "outputs": [],
   "source": []
  }
 ],
 "metadata": {
  "kernelspec": {
   "display_name": "Python 3",
   "language": "python",
   "name": "python3"
  },
  "language_info": {
   "codemirror_mode": {
    "name": "ipython",
    "version": 3
   },
   "file_extension": ".py",
   "mimetype": "text/x-python",
   "name": "python",
   "nbconvert_exporter": "python",
   "pygments_lexer": "ipython3",
   "version": "3.6.4"
  }
 },
 "nbformat": 4,
 "nbformat_minor": 2
}
